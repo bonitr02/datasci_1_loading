{
  "nbformat": 4,
  "nbformat_minor": 0,
  "metadata": {
    "colab": {
      "provenance": [],
      "authorship_tag": "ABX9TyPX3dkm04S1bdQZu01CT4uS"
    },
    "kernelspec": {
      "name": "python3",
      "display_name": "Python 3"
    },
    "language_info": {
      "name": "python"
    }
  },
  "cells": [
    {
      "cell_type": "markdown",
      "source": [
        "#Loading Packages"
      ],
      "metadata": {
        "id": "teXaODfrV7oN"
      }
    },
    {
      "cell_type": "code",
      "execution_count": 1,
      "metadata": {
        "id": "Mqu7yyQuVaHi"
      },
      "outputs": [],
      "source": [
        "import pandas as pd"
      ]
    },
    {
      "cell_type": "markdown",
      "source": [
        "#CSV Datasets"
      ],
      "metadata": {
        "id": "TQ8Jw5y0WNTW"
      }
    },
    {
      "cell_type": "markdown",
      "source": [
        "## CSV Dataset 1"
      ],
      "metadata": {
        "id": "2bfcEI8gWchh"
      }
    },
    {
      "cell_type": "markdown",
      "source": [
        "## CSV Dataset 2"
      ],
      "metadata": {
        "id": "mraGJziaWlAh"
      }
    },
    {
      "cell_type": "markdown",
      "source": [
        "## CSV Dataset 3"
      ],
      "metadata": {
        "id": "A_Ca8flDWpfJ"
      }
    },
    {
      "cell_type": "markdown",
      "source": [
        "# XLSX Datasets"
      ],
      "metadata": {
        "id": "K2iH6kShWskn"
      }
    },
    {
      "cell_type": "markdown",
      "source": [
        "## XLSX Dataset 1"
      ],
      "metadata": {
        "id": "_PHYmGVyW1Mm"
      }
    },
    {
      "cell_type": "markdown",
      "source": [
        "## XLSX Dataset 2"
      ],
      "metadata": {
        "id": "nYnDQ3QrW6Fn"
      }
    },
    {
      "cell_type": "markdown",
      "source": [
        "## XLSX Dataset 3"
      ],
      "metadata": {
        "id": "aUuO4CDyW6Y-"
      }
    },
    {
      "cell_type": "markdown",
      "source": [
        "# JSON Datasets"
      ],
      "metadata": {
        "id": "4TFwu9HxW977"
      }
    },
    {
      "cell_type": "markdown",
      "source": [
        "## JSON Dataset 1"
      ],
      "metadata": {
        "id": "SWZnicAuXBMX"
      }
    },
    {
      "cell_type": "markdown",
      "source": [
        "## JSON Dataset 2"
      ],
      "metadata": {
        "id": "Cvr4oxnaXHSd"
      }
    },
    {
      "cell_type": "markdown",
      "source": [
        "## JSON Dataset 3"
      ],
      "metadata": {
        "id": "cdqsYq5yXFgG"
      }
    }
  ]
}